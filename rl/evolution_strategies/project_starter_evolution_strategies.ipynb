{
 "cells": [
  {
   "cell_type": "code",
   "execution_count": 2,
   "metadata": {
    "ExecuteTime": {
     "end_time": "2019-09-22T03:28:01.181456Z",
     "start_time": "2019-09-22T03:27:54.461101Z"
    }
   },
   "outputs": [
    {
     "name": "stdout",
     "output_type": "stream",
     "text": [
      "state vector dim = 4\n",
      "n_actions = 2\n"
     ]
    },
    {
     "data": {
      "image/png": "[encoded data removed]",
      "text/plain": [
       "<Figure size 432x288 with 1 Axes>"
      ]
     },
     "metadata": {
      "needs_background": "light"
     },
     "output_type": "display_data"
    }
   ],
   "source": [
    "import os\n",
    "import gym\n",
    "import numpy as np\n",
    "import matplotlib.pyplot as plt\n",
    "%matplotlib inline\n",
    "import joblib\n",
    "\n",
    "# if you see \"<classname> has no attribute .env\", remove .env or update gym\n",
    "env = gym.make(\"CartPole-v0\").env\n",
    "\n",
    "env.reset()\n",
    "n_actions = env.action_space.n\n",
    "state_dim = env.observation_space.shape[0]\n",
    "\n",
    "plt.imshow(env.render(\"rgb_array\"))\n",
    "print(\"state vector dim =\", state_dim)\n",
    "print(\"n_actions =\", n_actions)"
   ]
  },
  {
   "cell_type": "code",
   "execution_count": 3,
   "metadata": {
    "ExecuteTime": {
     "end_time": "2019-09-22T03:28:27.347553Z",
     "start_time": "2019-09-22T03:28:01.185446Z"
    }
   },
   "outputs": [
    {
     "name": "stdout",
     "output_type": "stream",
     "text": [
      "Sequential(\n",
      "  (0): Linear(in_features=4, out_features=18, bias=True)\n",
      "  (1): ReLU(inplace=True)\n",
      "  (2): Linear(in_features=18, out_features=18, bias=True)\n",
      "  (3): ReLU(inplace=True)\n",
      "  (4): Linear(in_features=18, out_features=2, bias=True)\n",
      "  (5): Softmax(dim=1)\n",
      ")\n"
     ]
    }
   ],
   "source": [
    "import torch\n",
    "import torch.nn as nn\n",
    "import torch.nn.functional as F\n",
    "\n",
    "\n",
    "net = torch.nn.Sequential(\n",
    "    torch.nn.Linear(state_dim, 18),\n",
    "    torch.nn.ReLU(inplace=True),\n",
    "    torch.nn.Linear(18, 18),\n",
    "    torch.nn.ReLU(inplace=True),\n",
    "    torch.nn.Linear(18, n_actions),\n",
    "    torch.nn.Softmax(dim =1)\n",
    ")\n",
    "\n",
    "if torch.cuda.is_available():\n",
    "    net = net.cuda()\n",
    "    \n",
    "for param in list(net.parameters()):\n",
    "    param.requires_grad = False\n",
    "print(net)"
   ]
  },
  {
   "cell_type": "code",
   "execution_count": 4,
   "metadata": {
    "ExecuteTime": {
     "end_time": "2019-09-22T03:28:27.355533Z",
     "start_time": "2019-09-22T03:28:27.350546Z"
    }
   },
   "outputs": [],
   "source": [
    "# s = torch.Tensor(env.reset(),)\n",
    "# #with torch.no_grad():\n",
    "# t=net(s.view((1,-1)))\n",
    "    \n",
    "# print(t)"
   ]
  },
  {
   "cell_type": "code",
   "execution_count": 5,
   "metadata": {
    "ExecuteTime": {
     "end_time": "2019-09-22T03:28:27.369497Z",
     "start_time": "2019-09-22T03:28:27.358525Z"
    }
   },
   "outputs": [],
   "source": [
    "# net.state_dict()['0.weight']\n",
    "# net.state_dict()['0.weight'] += 1\n",
    "# net.state_dict()\n",
    "#with torch.no_grad():"
   ]
  },
  {
   "cell_type": "code",
   "execution_count": 39,
   "metadata": {
    "ExecuteTime": {
     "end_time": "2019-09-22T04:09:34.677745Z",
     "start_time": "2019-09-22T04:09:34.670763Z"
    }
   },
   "outputs": [],
   "source": [
    "def sample_delta(net,seed,sigma):\n",
    "    np.random.seed(seed)\n",
    "    \n",
    "    delta = {}\n",
    "    for k,v in net.state_dict().items():\n",
    "        delta[k] = sigma * torch.Tensor(np.random.normal(size=v.size()))\n",
    "    \n",
    "    return delta\n",
    "    "
   ]
  },
  {
   "cell_type": "code",
   "execution_count": 27,
   "metadata": {
    "ExecuteTime": {
     "end_time": "2019-09-22T03:40:17.169694Z",
     "start_time": "2019-09-22T03:40:17.159720Z"
    }
   },
   "outputs": [],
   "source": [
    "class ESDNNPolicy(torch.nn.Module):\n",
    "    \n",
    "    def __init__(self, state_dim, n_actions, hidden_layer_size = [18,18]):\n",
    "        super(ESDNNPolicy, self).__init__()\n",
    "        \n",
    "        layers = [torch.nn.Linear(state_dim, hidden_layer_size[0]),torch.nn.ReLU(inplace=True)]\n",
    "        for i in range(len(hidden_layer_size)-1):\n",
    "            \n",
    "            layers.append(torch.nn.Linear(hidden_layer_size[i], hidden_layer_size[i+1]))\n",
    "            layers.append(torch.nn.ReLU(inplace=True))\n",
    "        layers +=    [torch.nn.Linear(hidden_layer_size[-1], n_actions),torch.nn.Softmax(dim =1)]\n",
    "        \n",
    "        self.model =  torch.nn.Sequential(*layers)\n",
    "        \n",
    "        if torch.cuda.is_available():\n",
    "            self.model = self.model.cuda()\n",
    "\n",
    "        for param in list(self.model.parameters()):\n",
    "            param.requires_grad = False\n",
    "        \n",
    "    def forward(self, inputs):\n",
    "        return self.model(inputs)\n",
    "    \n",
    "    def apply_delta(self,delta):\n",
    "        for k in self.state_dict():\n",
    "            self.state_dict()[k] += delta[k]\n",
    "    \n",
    "    def copy_from(self,other):\n",
    "        self.load_state_dict(other.state_dict())\n",
    "        \n",
    "        "
   ]
  },
  {
   "cell_type": "code",
   "execution_count": 10,
   "metadata": {
    "ExecuteTime": {
     "end_time": "2019-09-22T03:30:03.457617Z",
     "start_time": "2019-09-22T03:30:01.019137Z"
    }
   },
   "outputs": [
    {
     "name": "stdout",
     "output_type": "stream",
     "text": [
      "300 µs ± 11.7 µs per loop (mean ± std. dev. of 7 runs, 1000 loops each)\n"
     ]
    }
   ],
   "source": [
    "%timeit t = ESDNNPolicy(state_dim,n_actions)"
   ]
  },
  {
   "cell_type": "code",
   "execution_count": 40,
   "metadata": {
    "ExecuteTime": {
     "end_time": "2019-09-22T04:09:43.416040Z",
     "start_time": "2019-09-22T04:09:41.586898Z"
    }
   },
   "outputs": [
    {
     "name": "stdout",
     "output_type": "stream",
     "text": [
      "218 µs ± 2.99 µs per loop (mean ± std. dev. of 7 runs, 1000 loops each)\n"
     ]
    }
   ],
   "source": [
    "t = ESDNNPolicy(state_dim,n_actions)\n",
    "%timeit sample_delta(t,123,1)"
   ]
  },
  {
   "cell_type": "code",
   "execution_count": 18,
   "metadata": {
    "ExecuteTime": {
     "end_time": "2019-09-22T03:33:50.327811Z",
     "start_time": "2019-09-22T03:33:36.919701Z"
    }
   },
   "outputs": [
    {
     "name": "stdout",
     "output_type": "stream",
     "text": [
      "165 µs ± 2.29 µs per loop (mean ± std. dev. of 7 runs, 10000 loops each)\n"
     ]
    }
   ],
   "source": [
    "delta = sample_delta(t,123,1)\n",
    "%timeit t.apply_delta(delta)\n"
   ]
  },
  {
   "cell_type": "code",
   "execution_count": 35,
   "metadata": {
    "ExecuteTime": {
     "end_time": "2019-09-22T03:41:34.979999Z",
     "start_time": "2019-09-22T03:41:28.007654Z"
    }
   },
   "outputs": [
    {
     "name": "stdout",
     "output_type": "stream",
     "text": [
      "85.8 µs ± 2.34 µs per loop (mean ± std. dev. of 7 runs, 10000 loops each)\n"
     ]
    }
   ],
   "source": [
    "t1 = ESDNNPolicy(state_dim,n_actions)\n",
    "%timeit t1.copy_from(t)"
   ]
  },
  {
   "cell_type": "code",
   "execution_count": 28,
   "metadata": {
    "ExecuteTime": {
     "end_time": "2019-09-22T03:40:34.991136Z",
     "start_time": "2019-09-22T03:40:34.986123Z"
    }
   },
   "outputs": [],
   "source": [
    "t = ESDNNPolicy(state_dim,n_actions)\n",
    "t1 = ESDNNPolicy(state_dim,n_actions)"
   ]
  },
  {
   "cell_type": "markdown",
   "metadata": {},
   "source": [
    "### Single thread version"
   ]
  },
  {
   "cell_type": "code",
   "execution_count": 75,
   "metadata": {
    "ExecuteTime": {
     "end_time": "2019-09-22T05:48:42.463242Z",
     "start_time": "2019-09-22T05:48:42.456259Z"
    }
   },
   "outputs": [],
   "source": [
    "def calc_update_vec(policy,rewards,seeds,alpha,sample_num,sigma):\n",
    "    \n",
    "    rewards = np.array(rewards)\n",
    "    rewards = (rewards-np.mean(rewards))/np.std(rewards)\n",
    "    ans = {}\n",
    "    for i in range(sample_num):\n",
    "        delta = sample_delta(policy,seeds[i],sigma)\n",
    "        for k in delta:\n",
    "            if k not in ans:\n",
    "                ans[k]= delta[k]*rewards[i]/sigma\n",
    "            else:\n",
    "                ans[k]+= delta[k]*rewards[i]/sigma\n",
    "    for k in ans:\n",
    "        ans[k]*=alpha/(sample_num*sigma)\n",
    "    return ans"
   ]
  },
  {
   "cell_type": "code",
   "execution_count": 76,
   "metadata": {
    "ExecuteTime": {
     "end_time": "2019-09-22T05:48:43.099659Z",
     "start_time": "2019-09-22T05:48:43.092676Z"
    }
   },
   "outputs": [],
   "source": [
    "def generate_session(env,policy, t_max=1000):\n",
    "    \"\"\"\n",
    "    Play a single game using agent neural network.\n",
    "    Terminate when game finishes or after :t_max: steps\n",
    "    \"\"\"\n",
    "    total_reward = 0\n",
    "\n",
    "    s = env.reset()\n",
    "\n",
    "    for t in range(t_max):\n",
    "        \n",
    "        # use agent to predict a vector of action probabilities for state :s:\n",
    "        #print(policy(torch.Tensor(s)))\n",
    "        probs = policy(torch.Tensor(s).view(1,-1)).numpy().reshape(-1)\n",
    "\n",
    "        assert probs.shape == (n_actions,), \"make sure probabilities are a vector (hint: np.reshape)\"\n",
    "        #print(probs)\n",
    "        \n",
    "        # use the probabilities you predicted to pick an action\n",
    "        # sample proportionally to the probabilities, don't just take the most likely action\n",
    "        a = np.random.choice(np.arange(n_actions),p=probs)\n",
    "        # ^-- hint: try np.random.choice\n",
    "\n",
    "        new_s, r, done, info = env.step(a)\n",
    "\n",
    "        # record sessions like you did before\n",
    "        total_reward += r\n",
    "\n",
    "        s = new_s\n",
    "        if done:\n",
    "            break\n",
    "    return  total_reward"
   ]
  },
  {
   "cell_type": "code",
   "execution_count": 77,
   "metadata": {
    "ExecuteTime": {
     "end_time": "2019-09-22T05:48:43.798141Z",
     "start_time": "2019-09-22T05:48:43.794161Z"
    }
   },
   "outputs": [],
   "source": [
    "def calc_reward(policy,env,n_session = 10):\n",
    "    ans = 0.0\n",
    "    for _ in range(n_session):\n",
    "        ans += generate_session(env,policy)\n",
    "    return ans/n_session"
   ]
  },
  {
   "cell_type": "code",
   "execution_count": 54,
   "metadata": {
    "ExecuteTime": {
     "end_time": "2019-09-22T05:06:26.590963Z",
     "start_time": "2019-09-22T05:06:23.909165Z"
    }
   },
   "outputs": [
    {
     "name": "stdout",
     "output_type": "stream",
     "text": [
      "32.4 ms ± 1.16 ms per loop (mean ± std. dev. of 7 runs, 10 loops each)\n"
     ]
    }
   ],
   "source": [
    "policy = ESDNNPolicy(state_dim,n_actions)\n",
    "%timeit calc_reward(policy,env)"
   ]
  },
  {
   "cell_type": "code",
   "execution_count": 78,
   "metadata": {
    "ExecuteTime": {
     "end_time": "2019-09-22T05:48:47.871301Z",
     "start_time": "2019-09-22T05:48:47.865318Z"
    }
   },
   "outputs": [],
   "source": [
    "from IPython.display import clear_output\n",
    "\n",
    "def show_progress(rewards, log, reward_range=[-990, +10]):\n",
    "    \"\"\"\n",
    "    A convenience function that displays training progress. \n",
    "    No cool math here, just charts.\n",
    "    \"\"\"\n",
    "\n",
    "    mean_reward = rewards\n",
    "    log.append(mean_reward)\n",
    "\n",
    "    clear_output(True)\n",
    "    print(\"iteration =%d  mean reward = %.3f\" % (len(log),mean_reward))\n",
    "    plt.figure(figsize=[8, 4])\n",
    "    plt.plot(log, label='Mean rewards')\n",
    "    plt.legend()\n",
    "    plt.grid()\n",
    "\n",
    "    plt.show()"
   ]
  },
  {
   "cell_type": "code",
   "execution_count": 83,
   "metadata": {
    "ExecuteTime": {
     "end_time": "2019-09-22T06:22:23.845691Z",
     "start_time": "2019-09-22T05:52:40.775942Z"
    }
   },
   "outputs": [
    {
     "name": "stdout",
     "output_type": "stream",
     "text": [
      "iteration =120  mean reward = 1000.000\n"
     ]
    },
    {
     "data": {
      "image/png": "[encoded data removed]",
      "text/plain": [
       "<Figure size 576x288 with 1 Axes>"
      ]
     },
     "metadata": {
      "needs_background": "light"
     },
     "output_type": "display_data"
    }
   ],
   "source": [
    "alpha = 0.01\n",
    "sigma = 0.1\n",
    "sample_num = 50\n",
    "\n",
    "policy = ESDNNPolicy(state_dim,n_actions)\n",
    "log = []\n",
    "\n",
    "for iteration in range(120):\n",
    "    rewards = []\n",
    "    seeds = np.random.randint(low = 0,high = 10**8,size=sample_num)\n",
    "    for i in range(sample_num):\n",
    "        delta = sample_delta(policy,seeds[i],sigma)\n",
    "        new_policy = ESDNNPolicy(state_dim,n_actions)\n",
    "        new_policy.copy_from(policy)\n",
    "        new_policy.apply_delta(delta)\n",
    "        \n",
    "        rewards.append(calc_reward(new_policy,env))\n",
    "    update_theta = calc_update_vec(policy,rewards,seeds,alpha,sample_num,sigma)\n",
    "    policy.apply_delta(update_theta)\n",
    "    \n",
    "    r = calc_reward(policy,env,n_session=20)\n",
    "\n",
    "    show_progress(r,log,reward_range=[0, np.max(r)])\n",
    "        "
   ]
  },
  {
   "cell_type": "markdown",
   "metadata": {},
   "source": [
    "### Parallel version"
   ]
  },
  {
   "cell_type": "code",
   "execution_count": 88,
   "metadata": {
    "ExecuteTime": {
     "end_time": "2019-09-22T06:27:38.072970Z",
     "start_time": "2019-09-22T06:27:38.066985Z"
    }
   },
   "outputs": [],
   "source": [
    "def get_rewards(seed):\n",
    "    delta = sample_delta(policy,seed,sigma)\n",
    "    new_env = gym.make(\"CartPole-v0\").env\n",
    "    new_env.reset()\n",
    "    new_policy = ESDNNPolicy(state_dim,n_actions)\n",
    "    new_policy.copy_from(policy)\n",
    "    new_policy.apply_delta(delta)\n",
    "\n",
    "    return calc_reward(new_policy,new_env,n_session=5)"
   ]
  },
  {
   "cell_type": "code",
   "execution_count": 87,
   "metadata": {
    "ExecuteTime": {
     "end_time": "2019-09-22T06:26:56.768145Z",
     "start_time": "2019-09-22T06:26:51.466328Z"
    }
   },
   "outputs": [
    {
     "name": "stdout",
     "output_type": "stream",
     "text": [
      "662 ms ± 98.1 ms per loop (mean ± std. dev. of 7 runs, 1 loop each)\n"
     ]
    }
   ],
   "source": [
    "%timeit get_rewards(5)"
   ]
  },
  {
   "cell_type": "code",
   "execution_count": 89,
   "metadata": {
    "ExecuteTime": {
     "end_time": "2019-09-22T06:28:30.929266Z",
     "start_time": "2019-09-22T06:28:30.925278Z"
    }
   },
   "outputs": [],
   "source": [
    "from joblib import Parallel, delayed"
   ]
  },
  {
   "cell_type": "code",
   "execution_count": 91,
   "metadata": {
    "ExecuteTime": {
     "end_time": "2019-09-22T06:31:06.834363Z",
     "start_time": "2019-09-22T06:31:06.830374Z"
    }
   },
   "outputs": [],
   "source": [
    "seeds = np.random.randint(low = 0,high = 10**8,size=sample_num)\n",
    "#Parallel(n_jobs=4)(delayed(get_rewards)(seed) for seed in seeds)"
   ]
  },
  {
   "cell_type": "code",
   "execution_count": 92,
   "metadata": {
    "ExecuteTime": {
     "end_time": "2019-09-22T06:42:13.095949Z",
     "start_time": "2019-09-22T06:31:34.689652Z"
    }
   },
   "outputs": [
    {
     "name": "stdout",
     "output_type": "stream",
     "text": [
      "iteration =120  mean reward = 1000.000\n"
     ]
    },
    {
     "data": {
      "image/png": "[encoded data removed]",
      "text/plain": [
       "<Figure size 576x288 with 1 Axes>"
      ]
     },
     "metadata": {
      "needs_background": "light"
     },
     "output_type": "display_data"
    }
   ],
   "source": [
    "alpha = 0.01\n",
    "sigma = 0.1\n",
    "sample_num = 50\n",
    "\n",
    "policy = ESDNNPolicy(state_dim,n_actions)\n",
    "log = []\n",
    "\n",
    "for iteration in range(120):\n",
    "    \n",
    "    seeds = np.random.randint(low = 0,high = 10**8,size=sample_num)\n",
    "    rewards = Parallel(n_jobs=4)(delayed(get_rewards)(seed) for seed in seeds)\n",
    "    update_theta = calc_update_vec(policy,rewards,seeds,alpha,sample_num,sigma)\n",
    "    policy.apply_delta(update_theta)\n",
    "    \n",
    "    r = calc_reward(policy,env,n_session=20)\n",
    "\n",
    "    show_progress(r,log,reward_range=[0, np.max(r)])"
   ]
  }
 ],
 "metadata": {
  "kernelspec": {
   "display_name": "Python 3",
   "language": "python",
   "name": "python3"
  },
  "language_info": {
   "codemirror_mode": {
    "name": "ipython",
    "version": 3
   },
   "file_extension": ".py",
   "mimetype": "text/x-python",
   "name": "python",
   "nbconvert_exporter": "python",
   "pygments_lexer": "ipython3",
   "version": "3.7.3"
  },
  "varInspector": {
   "cols": {
    "lenName": 16,
    "lenType": 16,
    "lenVar": 40
   },
   "kernels_config": {
    "python": {
     "delete_cmd_postfix": "",
     "delete_cmd_prefix": "del ",
     "library": "var_list.py",
     "varRefreshCmd": "print(var_dic_list())"
    },
    "r": {
     "delete_cmd_postfix": ") ",
     "delete_cmd_prefix": "rm(",
     "library": "var_list.r",
     "varRefreshCmd": "cat(var_dic_list()) "
    }
   },
   "types_to_exclude": [
    "module",
    "function",
    "builtin_function_or_method",
    "instance",
    "_Feature"
   ],
   "window_display": false
  }
 },
 "nbformat": 4,
 "nbformat_minor": 2
}
